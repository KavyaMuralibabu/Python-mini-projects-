{
 "cells": [
  {
   "cell_type": "code",
   "execution_count": null,
   "id": "550600ce-f109-45fd-9931-05e622daf9f7",
   "metadata": {},
   "outputs": [],
   "source": [
    "import tkinter as tk\n",
    "from time import strftime\n",
    "\n",
    "def update_time():\n",
    "    current_time = strftime('%H:%M:%S %p')  \n",
    "    current_date = strftime('%A, %d %B %Y')  \n",
    "    time_label.config(text=current_time)  \n",
    "    date_label.config(text=current_date) \n",
    "    time_label.after(1000, update_time) \n",
    "\n",
    "root = tk.Tk()\n",
    "root.title(\"Digital Clock\")  \n",
    "root.geometry(\"400x400\") \n",
    "root.resizable(False, False) \n",
    "root.configure(bg=\"pink\") \n",
    "\n",
    "canvas = tk.Canvas(root, width=400, height=400, bg=\"#5b0e8c\", highlightthickness=0)\n",
    "canvas.pack()\n",
    "\n",
    "circle = canvas.create_oval(50, 50, 350, 350, fill=\"darkblue\", outline=\"cyan\", width=5)\n",
    "\n",
    "time_label = tk.Label(root, font=('Helvetica', 24), bg=\"darkblue\", fg=\"cyan\")\n",
    "time_label.place(relx=0.5, rely=0.4, anchor=tk.CENTER)  \n",
    "\n",
    "date_label = tk.Label(root, font=('Helvetica', 14), bg=\"darkblue\", fg=\"yellow\")\n",
    "date_label.place(relx=0.5, rely=0.6, anchor=tk.CENTER) \n",
    "\n",
    "update_time()\n",
    "root.mainloop()\n"
   ]
  }
 ],
 "metadata": {
  "kernelspec": {
   "display_name": "Python 3 (ipykernel)",
   "language": "python",
   "name": "python3"
  },
  "language_info": {
   "codemirror_mode": {
    "name": "ipython",
    "version": 3
   },
   "file_extension": ".py",
   "mimetype": "text/x-python",
   "name": "python",
   "nbconvert_exporter": "python",
   "pygments_lexer": "ipython3",
   "version": "3.12.4"
  }
 },
 "nbformat": 4,
 "nbformat_minor": 5
}
